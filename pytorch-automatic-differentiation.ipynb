{
 "cells": [
  {
   "cell_type": "markdown",
   "id": "9adf55e5",
   "metadata": {
    "papermill": {
     "duration": 0.004109,
     "end_time": "2023-10-06T11:53:06.127035",
     "exception": false,
     "start_time": "2023-10-06T11:53:06.122926",
     "status": "completed"
    },
    "tags": []
   },
   "source": [
    "# Automatic differentiation with torch.autograd"
   ]
  },
  {
   "cell_type": "markdown",
   "id": "a59d7b5b",
   "metadata": {
    "papermill": {
     "duration": 0.00336,
     "end_time": "2023-10-06T11:53:06.136151",
     "exception": false,
     "start_time": "2023-10-06T11:53:06.132791",
     "status": "completed"
    },
    "tags": []
   },
   "source": [
    "* When training neural networks, the most frequently used algorithm is `back propagation`. In this algorithm, parameters (model weights) are adjusted according to the `gradient` of the loss function with respect to the given parameter.\n",
    "* To compute those gradients, PyTorch has a built-in differentiation engine called `torch.autograd`. It supports automatic computation of gradient for any computational graph.\n"
   ]
  },
  {
   "cell_type": "markdown",
   "id": "dac13080",
   "metadata": {
    "papermill": {
     "duration": 0.003508,
     "end_time": "2023-10-06T11:53:06.143337",
     "exception": false,
     "start_time": "2023-10-06T11:53:06.139829",
     "status": "completed"
    },
    "tags": []
   },
   "source": [
    "* Consider the simplest one-layer neural network, with input `x`, parameters `w` and `b`, and some loss function. It can be defined in PyTorch in the following manner:"
   ]
  },
  {
   "cell_type": "code",
   "execution_count": 1,
   "id": "5a31554e",
   "metadata": {
    "execution": {
     "iopub.execute_input": "2023-10-06T11:53:06.153071Z",
     "iopub.status.busy": "2023-10-06T11:53:06.152640Z",
     "iopub.status.idle": "2023-10-06T11:53:10.056244Z",
     "shell.execute_reply": "2023-10-06T11:53:10.055348Z"
    },
    "papermill": {
     "duration": 3.911553,
     "end_time": "2023-10-06T11:53:10.059042",
     "exception": false,
     "start_time": "2023-10-06T11:53:06.147489",
     "status": "completed"
    },
    "tags": []
   },
   "outputs": [
    {
     "name": "stdout",
     "output_type": "stream",
     "text": [
      "tensor(0.7498, grad_fn=<BinaryCrossEntropyWithLogitsBackward0>)\n"
     ]
    }
   ],
   "source": [
    "import torch\n",
    "\n",
    "x = torch.ones(5) # input tensor\n",
    "y = torch.zeros(3) # expected output\n",
    "w = torch.randn(5, 3, requires_grad=True)\n",
    "b = torch.randn(3, requires_grad=True)\n",
    "z = torch.matmul(x, w) + b\n",
    "\n",
    "loss = torch.nn.functional.binary_cross_entropy_with_logits(z, y)\n",
    "\n",
    "print(loss)"
   ]
  },
  {
   "cell_type": "markdown",
   "id": "65826103",
   "metadata": {
    "papermill": {
     "duration": 0.003581,
     "end_time": "2023-10-06T11:53:10.066479",
     "exception": false,
     "start_time": "2023-10-06T11:53:10.062898",
     "status": "completed"
    },
    "tags": []
   },
   "source": [
    "## Tensors, Functions and Computational graph"
   ]
  },
  {
   "cell_type": "markdown",
   "id": "a6607b01",
   "metadata": {
    "papermill": {
     "duration": 0.003847,
     "end_time": "2023-10-06T11:53:10.074001",
     "exception": false,
     "start_time": "2023-10-06T11:53:10.070154",
     "status": "completed"
    },
    "tags": []
   },
   "source": [
    "* This code defines the following `computational graph`\n",
    "<img src=\"https://pytorch.org/tutorials/_images/comp-graph.png\">"
   ]
  },
  {
   "cell_type": "markdown",
   "id": "416e9994",
   "metadata": {
    "papermill": {
     "duration": 0.003584,
     "end_time": "2023-10-06T11:53:10.082088",
     "exception": false,
     "start_time": "2023-10-06T11:53:10.078504",
     "status": "completed"
    },
    "tags": []
   },
   "source": [
    "* In this network, w and b are `parameters`, which we need to optimize. Thus, we need to be able to compute the gradients of loss function with respect to those variables. In order to do that, we set the `requires_grad` property of those tensors.\n",
    "* You can set the value of `requires_grad` when creating tensor, or later by using `x.requires_grad_(True)` method"
   ]
  },
  {
   "cell_type": "markdown",
   "id": "1a5348e0",
   "metadata": {
    "papermill": {
     "duration": 0.003675,
     "end_time": "2023-10-06T11:53:10.089444",
     "exception": false,
     "start_time": "2023-10-06T11:53:10.085769",
     "status": "completed"
    },
    "tags": []
   },
   "source": [
    "* A function that we apply to tensors to construct computational graph is in fact an object of class `Function`. This object knows how to compute the function in the *forward* direction, and also how to compute its derivative during the backward propagation step. A reference to the backward propagation function is stored in `grad_fn` property of a tensor. You can find more information of Function [in the documentation](https://pytorch.org/docs/stable/autograd.html#function)."
   ]
  },
  {
   "cell_type": "code",
   "execution_count": 2,
   "id": "a45299c6",
   "metadata": {
    "execution": {
     "iopub.execute_input": "2023-10-06T11:53:10.099434Z",
     "iopub.status.busy": "2023-10-06T11:53:10.098230Z",
     "iopub.status.idle": "2023-10-06T11:53:10.104049Z",
     "shell.execute_reply": "2023-10-06T11:53:10.102993Z"
    },
    "papermill": {
     "duration": 0.013133,
     "end_time": "2023-10-06T11:53:10.106278",
     "exception": false,
     "start_time": "2023-10-06T11:53:10.093145",
     "status": "completed"
    },
    "tags": []
   },
   "outputs": [
    {
     "name": "stdout",
     "output_type": "stream",
     "text": [
      "Gradient function for z = <AddBackward0 object at 0x7a080c201a50>\n",
      "Gradient function for loss = <BinaryCrossEntropyWithLogitsBackward0 object at 0x7a080c200f40>\n"
     ]
    }
   ],
   "source": [
    "print(f\"Gradient function for z = {z.grad_fn}\")\n",
    "print(f\"Gradient function for loss = {loss.grad_fn}\")"
   ]
  },
  {
   "cell_type": "markdown",
   "id": "45018b23",
   "metadata": {
    "papermill": {
     "duration": 0.003709,
     "end_time": "2023-10-06T11:53:10.113942",
     "exception": false,
     "start_time": "2023-10-06T11:53:10.110233",
     "status": "completed"
    },
    "tags": []
   },
   "source": [
    "## Computing Gradients"
   ]
  },
  {
   "cell_type": "markdown",
   "id": "73aac96d",
   "metadata": {
    "papermill": {
     "duration": 0.003692,
     "end_time": "2023-10-06T11:53:10.121718",
     "exception": false,
     "start_time": "2023-10-06T11:53:10.118026",
     "status": "completed"
    },
    "tags": []
   },
   "source": [
    "* To optimize weights of parameters in the neural network, we need to compute the derivatives of our loss function with respect to parameters, namely, we need ${\\partial{loss} \\over \\partial w}$ and ${\\partial{loss} \\over \\partial b}$ under some fixed values of `x` and `y`. To compute those derivatives, we call `loss.backward()`, and then retrieve the values from `w.grad` and `b.grad`:"
   ]
  },
  {
   "cell_type": "code",
   "execution_count": 3,
   "id": "618f9bfb",
   "metadata": {
    "execution": {
     "iopub.execute_input": "2023-10-06T11:53:10.131420Z",
     "iopub.status.busy": "2023-10-06T11:53:10.130385Z",
     "iopub.status.idle": "2023-10-06T11:53:10.154055Z",
     "shell.execute_reply": "2023-10-06T11:53:10.152661Z"
    },
    "papermill": {
     "duration": 0.031062,
     "end_time": "2023-10-06T11:53:10.156547",
     "exception": false,
     "start_time": "2023-10-06T11:53:10.125485",
     "status": "completed"
    },
    "tags": []
   },
   "outputs": [
    {
     "name": "stdout",
     "output_type": "stream",
     "text": [
      "tensor([[0.1042, 0.1710, 0.2283],\n",
      "        [0.1042, 0.1710, 0.2283],\n",
      "        [0.1042, 0.1710, 0.2283],\n",
      "        [0.1042, 0.1710, 0.2283],\n",
      "        [0.1042, 0.1710, 0.2283]])\n",
      "tensor([0.1042, 0.1710, 0.2283])\n"
     ]
    }
   ],
   "source": [
    "loss.backward()\n",
    "print(w.grad)\n",
    "print(b.grad)"
   ]
  },
  {
   "cell_type": "markdown",
   "id": "41d2f79d",
   "metadata": {
    "papermill": {
     "duration": 0.003594,
     "end_time": "2023-10-06T11:53:10.164433",
     "exception": false,
     "start_time": "2023-10-06T11:53:10.160839",
     "status": "completed"
    },
    "tags": []
   },
   "source": [
    "* We can only obtain the `grad` properties for the leaf nodes of the computational graph, which have `requires_grad` property set to `True`. For all other nodes in our graph, gradients will not be available.\n",
    "* We can only perform gradient calculations using `backward` once on a given graph, for performance reasons. If we need to do several `backward` calls on the same graph, we need to pass `retain_graph=True` to the `backward` call."
   ]
  },
  {
   "cell_type": "markdown",
   "id": "7a7dd721",
   "metadata": {
    "papermill": {
     "duration": 0.003424,
     "end_time": "2023-10-06T11:53:10.171584",
     "exception": false,
     "start_time": "2023-10-06T11:53:10.168160",
     "status": "completed"
    },
    "tags": []
   },
   "source": [
    "## Disabling Gradient Tracking"
   ]
  },
  {
   "cell_type": "markdown",
   "id": "a669df3b",
   "metadata": {
    "papermill": {
     "duration": 0.00349,
     "end_time": "2023-10-06T11:53:10.178680",
     "exception": false,
     "start_time": "2023-10-06T11:53:10.175190",
     "status": "completed"
    },
    "tags": []
   },
   "source": [
    "* By default, all tensors with `requires_grad=True` are tracking their computational history and support gradient computation. However, there are some cases when we do not need to do that, for example, when we have trained the model and just want to apply it to some input data, i.e. we only want to do forward computations through the network. We can stop tracking computations by surrounding our computation code with `torch.no_grad()` block: "
   ]
  },
  {
   "cell_type": "code",
   "execution_count": 4,
   "id": "0f3dee47",
   "metadata": {
    "execution": {
     "iopub.execute_input": "2023-10-06T11:53:10.188586Z",
     "iopub.status.busy": "2023-10-06T11:53:10.187390Z",
     "iopub.status.idle": "2023-10-06T11:53:10.196369Z",
     "shell.execute_reply": "2023-10-06T11:53:10.195236Z"
    },
    "papermill": {
     "duration": 0.016146,
     "end_time": "2023-10-06T11:53:10.198486",
     "exception": false,
     "start_time": "2023-10-06T11:53:10.182340",
     "status": "completed"
    },
    "tags": []
   },
   "outputs": [
    {
     "name": "stdout",
     "output_type": "stream",
     "text": [
      "True\n",
      "False\n"
     ]
    }
   ],
   "source": [
    "z = torch.matmul(x, w) + b\n",
    "print(z.requires_grad)\n",
    "\n",
    "with torch.no_grad():\n",
    "    z = torch.matmul(x, w) + b\n",
    "print(z.requires_grad)"
   ]
  },
  {
   "cell_type": "markdown",
   "id": "6fa2c2ca",
   "metadata": {
    "papermill": {
     "duration": 0.003578,
     "end_time": "2023-10-06T11:53:10.205952",
     "exception": false,
     "start_time": "2023-10-06T11:53:10.202374",
     "status": "completed"
    },
    "tags": []
   },
   "source": [
    "* Another way to achieve the same result is to use the `detach()` method on the tensor:"
   ]
  },
  {
   "cell_type": "code",
   "execution_count": 5,
   "id": "c0873a54",
   "metadata": {
    "execution": {
     "iopub.execute_input": "2023-10-06T11:53:10.215447Z",
     "iopub.status.busy": "2023-10-06T11:53:10.214842Z",
     "iopub.status.idle": "2023-10-06T11:53:10.221133Z",
     "shell.execute_reply": "2023-10-06T11:53:10.220262Z"
    },
    "papermill": {
     "duration": 0.013606,
     "end_time": "2023-10-06T11:53:10.223308",
     "exception": false,
     "start_time": "2023-10-06T11:53:10.209702",
     "status": "completed"
    },
    "tags": []
   },
   "outputs": [
    {
     "name": "stdout",
     "output_type": "stream",
     "text": [
      "False\n"
     ]
    }
   ],
   "source": [
    "z = torch.matmul(x, w) + b\n",
    "z_det = z.detach()\n",
    "print(z_det.requires_grad)"
   ]
  },
  {
   "cell_type": "markdown",
   "id": "040043fa",
   "metadata": {
    "papermill": {
     "duration": 0.003955,
     "end_time": "2023-10-06T11:53:10.231420",
     "exception": false,
     "start_time": "2023-10-06T11:53:10.227465",
     "status": "completed"
    },
    "tags": []
   },
   "source": [
    "* There are reasons you might want to disable gradient tracking:\n",
    "    - To mark some parameters in your neural networks as **frozen parameters**\n",
    "    - To **speed up computations** when you are only doing forward pass, because computations on tensors that do not track gradients would be more efficient."
   ]
  },
  {
   "cell_type": "markdown",
   "id": "32b3e1b2",
   "metadata": {
    "papermill": {
     "duration": 0.003783,
     "end_time": "2023-10-06T11:53:10.239257",
     "exception": false,
     "start_time": "2023-10-06T11:53:10.235474",
     "status": "completed"
    },
    "tags": []
   },
   "source": [
    "## More on Computational Graphs"
   ]
  },
  {
   "cell_type": "markdown",
   "id": "c8a34006",
   "metadata": {
    "papermill": {
     "duration": 0.003746,
     "end_time": "2023-10-06T11:53:10.247240",
     "exception": false,
     "start_time": "2023-10-06T11:53:10.243494",
     "status": "completed"
    },
    "tags": []
   },
   "source": [
    "* [portal](https://pytorch.org/tutorials/beginner/basics/autogradqs_tutorial.html)"
   ]
  }
 ],
 "metadata": {
  "kernelspec": {
   "display_name": "Python 3",
   "language": "python",
   "name": "python3"
  },
  "language_info": {
   "codemirror_mode": {
    "name": "ipython",
    "version": 3
   },
   "file_extension": ".py",
   "mimetype": "text/x-python",
   "name": "python",
   "nbconvert_exporter": "python",
   "pygments_lexer": "ipython3",
   "version": "3.10.12"
  },
  "papermill": {
   "default_parameters": {},
   "duration": 9.450639,
   "end_time": "2023-10-06T11:53:11.072611",
   "environment_variables": {},
   "exception": null,
   "input_path": "__notebook__.ipynb",
   "output_path": "__notebook__.ipynb",
   "parameters": {},
   "start_time": "2023-10-06T11:53:01.621972",
   "version": "2.4.0"
  }
 },
 "nbformat": 4,
 "nbformat_minor": 5
}
