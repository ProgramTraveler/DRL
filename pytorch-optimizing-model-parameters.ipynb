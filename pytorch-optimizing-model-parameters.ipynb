{
 "cells": [
  {
   "cell_type": "markdown",
   "id": "0a6faf8e",
   "metadata": {
    "papermill": {
     "duration": 0.003864,
     "end_time": "2023-10-07T09:04:13.815964",
     "exception": false,
     "start_time": "2023-10-07T09:04:13.812100",
     "status": "completed"
    },
    "tags": []
   },
   "source": [
    "# Optimizing Model Parameters"
   ]
  },
  {
   "cell_type": "markdown",
   "id": "71e3362a",
   "metadata": {
    "papermill": {
     "duration": 0.00296,
     "end_time": "2023-10-07T09:04:13.822108",
     "exception": false,
     "start_time": "2023-10-07T09:04:13.819148",
     "status": "completed"
    },
    "tags": []
   },
   "source": [
    "* Now that we have a model and data it’s time to train, validate and test our model by optimizing its parameters on our data. Training a model is an iterative process; in each iteration the model makes a guess about the output, calculates the error in its guess (*loss*), collects the derivatives of the error with respect to its parameters (as we saw in the previous section), and **optimizes** these parameters using gradient descent. For a more detailed walkthrough of this process, check out this video on [backpropagation from 3Blue1Brown](https://www.youtube.com/watch?v=tIeHLnjs5U8)."
   ]
  },
  {
   "cell_type": "markdown",
   "id": "03a4b60b",
   "metadata": {
    "papermill": {
     "duration": 0.002869,
     "end_time": "2023-10-07T09:04:13.828022",
     "exception": false,
     "start_time": "2023-10-07T09:04:13.825153",
     "status": "completed"
    },
    "tags": []
   },
   "source": [
    "## Prerequisite Code"
   ]
  },
  {
   "cell_type": "markdown",
   "id": "dd06c636",
   "metadata": {
    "papermill": {
     "duration": 0.00284,
     "end_time": "2023-10-07T09:04:13.833958",
     "exception": false,
     "start_time": "2023-10-07T09:04:13.831118",
     "status": "completed"
    },
    "tags": []
   },
   "source": [
    "* We load the code from the previous sections on [Datasets & DataLoaders](https://pytorch.org/tutorials/beginner/basics/data_tutorial.html) and [Build Model](https://pytorch.org/tutorials/beginner/basics/buildmodel_tutorial.html)."
   ]
  },
  {
   "cell_type": "code",
   "execution_count": 1,
   "id": "5ce8c439",
   "metadata": {
    "execution": {
     "iopub.execute_input": "2023-10-07T09:04:13.842951Z",
     "iopub.status.busy": "2023-10-07T09:04:13.842410Z",
     "iopub.status.idle": "2023-10-07T09:04:22.082637Z",
     "shell.execute_reply": "2023-10-07T09:04:22.081587Z"
    },
    "papermill": {
     "duration": 8.246916,
     "end_time": "2023-10-07T09:04:22.084702",
     "exception": false,
     "start_time": "2023-10-07T09:04:13.837786",
     "status": "completed"
    },
    "tags": []
   },
   "outputs": [
    {
     "name": "stdout",
     "output_type": "stream",
     "text": [
      "Downloading http://fashion-mnist.s3-website.eu-central-1.amazonaws.com/train-images-idx3-ubyte.gz\n",
      "Downloading http://fashion-mnist.s3-website.eu-central-1.amazonaws.com/train-images-idx3-ubyte.gz to data/FashionMNIST/raw/train-images-idx3-ubyte.gz\n"
     ]
    },
    {
     "name": "stderr",
     "output_type": "stream",
     "text": [
      "100%|██████████| 26421880/26421880 [00:01<00:00, 17146370.16it/s]\n"
     ]
    },
    {
     "name": "stdout",
     "output_type": "stream",
     "text": [
      "Extracting data/FashionMNIST/raw/train-images-idx3-ubyte.gz to data/FashionMNIST/raw\n",
      "\n",
      "Downloading http://fashion-mnist.s3-website.eu-central-1.amazonaws.com/train-labels-idx1-ubyte.gz\n",
      "Downloading http://fashion-mnist.s3-website.eu-central-1.amazonaws.com/train-labels-idx1-ubyte.gz to data/FashionMNIST/raw/train-labels-idx1-ubyte.gz\n"
     ]
    },
    {
     "name": "stderr",
     "output_type": "stream",
     "text": [
      "100%|██████████| 29515/29515 [00:00<00:00, 298140.00it/s]\n"
     ]
    },
    {
     "name": "stdout",
     "output_type": "stream",
     "text": [
      "Extracting data/FashionMNIST/raw/train-labels-idx1-ubyte.gz to data/FashionMNIST/raw\n",
      "\n",
      "Downloading http://fashion-mnist.s3-website.eu-central-1.amazonaws.com/t10k-images-idx3-ubyte.gz\n",
      "Downloading http://fashion-mnist.s3-website.eu-central-1.amazonaws.com/t10k-images-idx3-ubyte.gz to data/FashionMNIST/raw/t10k-images-idx3-ubyte.gz\n"
     ]
    },
    {
     "name": "stderr",
     "output_type": "stream",
     "text": [
      "100%|██████████| 4422102/4422102 [00:00<00:00, 5446184.44it/s]\n"
     ]
    },
    {
     "name": "stdout",
     "output_type": "stream",
     "text": [
      "Extracting data/FashionMNIST/raw/t10k-images-idx3-ubyte.gz to data/FashionMNIST/raw\n",
      "\n",
      "Downloading http://fashion-mnist.s3-website.eu-central-1.amazonaws.com/t10k-labels-idx1-ubyte.gz\n",
      "Downloading http://fashion-mnist.s3-website.eu-central-1.amazonaws.com/t10k-labels-idx1-ubyte.gz to data/FashionMNIST/raw/t10k-labels-idx1-ubyte.gz\n"
     ]
    },
    {
     "name": "stderr",
     "output_type": "stream",
     "text": [
      "100%|██████████| 5148/5148 [00:00<00:00, 15818517.94it/s]"
     ]
    },
    {
     "name": "stdout",
     "output_type": "stream",
     "text": [
      "Extracting data/FashionMNIST/raw/t10k-labels-idx1-ubyte.gz to data/FashionMNIST/raw\n",
      "\n"
     ]
    },
    {
     "name": "stderr",
     "output_type": "stream",
     "text": [
      "\n"
     ]
    }
   ],
   "source": [
    "import torch\n",
    "from torch import nn\n",
    "from torch.utils.data import DataLoader\n",
    "from torchvision import datasets\n",
    "from torchvision.transforms import ToTensor\n",
    "\n",
    "training_data = datasets.FashionMNIST(\n",
    "    root=\"data\",\n",
    "    train=True,\n",
    "    download=True,\n",
    "    transform=ToTensor()\n",
    ")\n",
    "\n",
    "test_data = datasets.FashionMNIST(\n",
    "    root=\"data\",\n",
    "    train=False,\n",
    "    download=True,\n",
    "    transform=ToTensor()\n",
    ")\n",
    "\n",
    "train_dataloader = DataLoader(training_data, batch_size=64)\n",
    "test_dataloader = DataLoader(test_data, batch_size=64)\n",
    "\n",
    "\n",
    "class NeuralNetwork(nn.Module):\n",
    "    def __init__(self):\n",
    "        super().__init__()\n",
    "        self.flatten = nn.Flatten()\n",
    "        self.linear_relu_stack = nn.Sequential(\n",
    "            nn.Linear(28 * 28, 512),\n",
    "            nn.ReLU(),\n",
    "            nn.Linear(512, 512),\n",
    "            nn.ReLU(),\n",
    "            nn.Linear(512, 10),\n",
    "        )\n",
    "        \n",
    "    def forward(self, x):\n",
    "        x = self.flatten(x)\n",
    "        logits = self.linear_relu_stack(x)\n",
    "        return logits\n",
    "        \n",
    "model = NeuralNetwork()"
   ]
  },
  {
   "cell_type": "markdown",
   "id": "63aa4c74",
   "metadata": {
    "papermill": {
     "duration": 0.004379,
     "end_time": "2023-10-07T09:04:22.094279",
     "exception": false,
     "start_time": "2023-10-07T09:04:22.089900",
     "status": "completed"
    },
    "tags": []
   },
   "source": [
    "## Hyperparameters"
   ]
  },
  {
   "cell_type": "markdown",
   "id": "ad0e29df",
   "metadata": {
    "papermill": {
     "duration": 0.004493,
     "end_time": "2023-10-07T09:04:22.103412",
     "exception": false,
     "start_time": "2023-10-07T09:04:22.098919",
     "status": "completed"
    },
    "tags": []
   },
   "source": [
    "* Hyperparameters are adjustable parameters that let you control the model optimization process. Different hyperparameter values can impact model training and convergence rates ([read more](https://pytorch.org/tutorials/beginner/hyperparameter_tuning_tutorial.html) about hyperparameter tuning)"
   ]
  },
  {
   "cell_type": "markdown",
   "id": "577584d2",
   "metadata": {
    "papermill": {
     "duration": 0.00446,
     "end_time": "2023-10-07T09:04:22.112509",
     "exception": false,
     "start_time": "2023-10-07T09:04:22.108049",
     "status": "completed"
    },
    "tags": []
   },
   "source": [
    "* We define the following hyperparameters for training:\n",
    "    - **Number of Epochs** - the number times to iterate over the dataset\n",
    "    - **Batch Size** - the number of data samples propagated through the network before the parameters are updated\n",
    "    - **Learning Rate** - how much to update models parameters at each batch/epoch. Smaller values yield slow learning speed, while large values may result in unpredictable behavior during training."
   ]
  },
  {
   "cell_type": "code",
   "execution_count": 2,
   "id": "6cbc72bb",
   "metadata": {
    "execution": {
     "iopub.execute_input": "2023-10-07T09:04:22.123722Z",
     "iopub.status.busy": "2023-10-07T09:04:22.123325Z",
     "iopub.status.idle": "2023-10-07T09:04:22.127381Z",
     "shell.execute_reply": "2023-10-07T09:04:22.126558Z"
    },
    "papermill": {
     "duration": 0.011369,
     "end_time": "2023-10-07T09:04:22.128723",
     "exception": false,
     "start_time": "2023-10-07T09:04:22.117354",
     "status": "completed"
    },
    "tags": []
   },
   "outputs": [],
   "source": [
    "learning_rate = 1e-3\n",
    "batch_size = 64\n",
    "epochs = 5"
   ]
  },
  {
   "cell_type": "markdown",
   "id": "b16ff02a",
   "metadata": {
    "papermill": {
     "duration": 0.004471,
     "end_time": "2023-10-07T09:04:22.137992",
     "exception": false,
     "start_time": "2023-10-07T09:04:22.133521",
     "status": "completed"
    },
    "tags": []
   },
   "source": [
    "## Optimization Loop"
   ]
  },
  {
   "cell_type": "markdown",
   "id": "bc40dcec",
   "metadata": {
    "papermill": {
     "duration": 0.004559,
     "end_time": "2023-10-07T09:04:22.147032",
     "exception": false,
     "start_time": "2023-10-07T09:04:22.142473",
     "status": "completed"
    },
    "tags": []
   },
   "source": [
    "* Once we set our hyperparameters, we can then train and optimize our model with an optimization loop. Each iteration of the optimization loop is called an **epoch**."
   ]
  },
  {
   "cell_type": "markdown",
   "id": "5598568b",
   "metadata": {
    "papermill": {
     "duration": 0.004322,
     "end_time": "2023-10-07T09:04:22.156023",
     "exception": false,
     "start_time": "2023-10-07T09:04:22.151701",
     "status": "completed"
    },
    "tags": []
   },
   "source": [
    "* Each epoch consists of two main parts:\n",
    "    - **The Train Loop** - iterate over the training dataset and try to converge to optimal parameters.\n",
    "    - **The Validation/Test Loop** - iterate over the test dataset to check if model performance is improving."
   ]
  },
  {
   "cell_type": "markdown",
   "id": "394ffb8c",
   "metadata": {
    "papermill": {
     "duration": 0.004507,
     "end_time": "2023-10-07T09:04:22.164989",
     "exception": false,
     "start_time": "2023-10-07T09:04:22.160482",
     "status": "completed"
    },
    "tags": []
   },
   "source": [
    "* Let’s briefly familiarize ourselves with some of the concepts used in the training loop. Jump ahead to see the [Full Implementation](https://pytorch.org/tutorials/beginner/basics/optimization_tutorial.html#full-impl-label) of the optimization loop."
   ]
  },
  {
   "cell_type": "markdown",
   "id": "8a17224c",
   "metadata": {
    "papermill": {
     "duration": 0.004295,
     "end_time": "2023-10-07T09:04:22.173773",
     "exception": false,
     "start_time": "2023-10-07T09:04:22.169478",
     "status": "completed"
    },
    "tags": []
   },
   "source": [
    "## Loss Function"
   ]
  },
  {
   "cell_type": "markdown",
   "id": "19946700",
   "metadata": {
    "papermill": {
     "duration": 0.004352,
     "end_time": "2023-10-07T09:04:22.182835",
     "exception": false,
     "start_time": "2023-10-07T09:04:22.178483",
     "status": "completed"
    },
    "tags": []
   },
   "source": [
    "* When presented with some training data, our untrained network is likely not to give the correct answer. **Loss function** measures the degree of dissimilarity of obtained result to the target value, and it is the loss function that we want to minimize during training. To calculate the loss we make a prediction using the inputs of our given data sample and compare it against the true data label value."
   ]
  },
  {
   "cell_type": "markdown",
   "id": "1b7dbec7",
   "metadata": {
    "papermill": {
     "duration": 0.00503,
     "end_time": "2023-10-07T09:04:22.192547",
     "exception": false,
     "start_time": "2023-10-07T09:04:22.187517",
     "status": "completed"
    },
    "tags": []
   },
   "source": [
    "* Common loss functions include [nn.MSELoss](https://pytorch.org/docs/stable/generated/torch.nn.MSELoss.html#torch.nn.MSELoss) (Mean Square Error) for regression tasks, and [nn.NLLLoss](https://pytorch.org/docs/stable/generated/torch.nn.NLLLoss.html#torch.nn.NLLLoss) (Negative Log Likelihood) for classification. [nn.CrossEntropyLoss](https://pytorch.org/docs/stable/generated/torch.nn.CrossEntropyLoss.html#torch.nn.CrossEntropyLoss) combines nn.LogSoftmax and nn.NLLLoss."
   ]
  },
  {
   "cell_type": "markdown",
   "id": "dcd44246",
   "metadata": {
    "papermill": {
     "duration": 0.004523,
     "end_time": "2023-10-07T09:04:22.202160",
     "exception": false,
     "start_time": "2023-10-07T09:04:22.197637",
     "status": "completed"
    },
    "tags": []
   },
   "source": [
    "* We pass our model’s output logits to `nn.CrossEntropyLoss`, which will normalize the logits and compute the prediction error."
   ]
  },
  {
   "cell_type": "code",
   "execution_count": 3,
   "id": "aa3de5ef",
   "metadata": {
    "execution": {
     "iopub.execute_input": "2023-10-07T09:04:22.213334Z",
     "iopub.status.busy": "2023-10-07T09:04:22.213032Z",
     "iopub.status.idle": "2023-10-07T09:04:22.216426Z",
     "shell.execute_reply": "2023-10-07T09:04:22.215668Z"
    },
    "papermill": {
     "duration": 0.010777,
     "end_time": "2023-10-07T09:04:22.217614",
     "exception": false,
     "start_time": "2023-10-07T09:04:22.206837",
     "status": "completed"
    },
    "tags": []
   },
   "outputs": [],
   "source": [
    "# Initialize the loss function\n",
    "loss_fn = nn.CrossEntropyLoss()"
   ]
  },
  {
   "cell_type": "markdown",
   "id": "f682d9a4",
   "metadata": {
    "papermill": {
     "duration": 0.004621,
     "end_time": "2023-10-07T09:04:22.226917",
     "exception": false,
     "start_time": "2023-10-07T09:04:22.222296",
     "status": "completed"
    },
    "tags": []
   },
   "source": [
    "## Optimizer"
   ]
  },
  {
   "cell_type": "markdown",
   "id": "5b0bfb19",
   "metadata": {
    "papermill": {
     "duration": 0.00445,
     "end_time": "2023-10-07T09:04:22.235929",
     "exception": false,
     "start_time": "2023-10-07T09:04:22.231479",
     "status": "completed"
    },
    "tags": []
   },
   "source": [
    "* Optimization is the process of adjusting model parameters to reduce model error in each training step. `Optimization algorithms` define how this process is performed (in this example we use Stochastic Gradient Descent). All optimization logic is encapsulated in the optimizer object. Here, we use the SGD optimizer; additionally, there are many [different optimizers](https://pytorch.org/docs/stable/optim.html) available in PyTorch such as ADAM and RMSProp, that work better for different kinds of models and data."
   ]
  },
  {
   "cell_type": "markdown",
   "id": "d4323dfa",
   "metadata": {
    "papermill": {
     "duration": 0.00428,
     "end_time": "2023-10-07T09:04:22.244673",
     "exception": false,
     "start_time": "2023-10-07T09:04:22.240393",
     "status": "completed"
    },
    "tags": []
   },
   "source": [
    "* We initialize the optimizer by registering the model's parameters that need to be trained, and passing in the learning rate hyperparameter."
   ]
  },
  {
   "cell_type": "code",
   "execution_count": 4,
   "id": "bc0ab1a4",
   "metadata": {
    "execution": {
     "iopub.execute_input": "2023-10-07T09:04:22.256502Z",
     "iopub.status.busy": "2023-10-07T09:04:22.256212Z",
     "iopub.status.idle": "2023-10-07T09:04:22.259417Z",
     "shell.execute_reply": "2023-10-07T09:04:22.258904Z"
    },
    "papermill": {
     "duration": 0.010531,
     "end_time": "2023-10-07T09:04:22.260584",
     "exception": false,
     "start_time": "2023-10-07T09:04:22.250053",
     "status": "completed"
    },
    "tags": []
   },
   "outputs": [],
   "source": [
    "optimizer = torch.optim.SGD(model.parameters(), lr=learning_rate)"
   ]
  },
  {
   "cell_type": "markdown",
   "id": "d8666b3c",
   "metadata": {
    "papermill": {
     "duration": 0.004327,
     "end_time": "2023-10-07T09:04:22.269578",
     "exception": false,
     "start_time": "2023-10-07T09:04:22.265251",
     "status": "completed"
    },
    "tags": []
   },
   "source": [
    "* Inside the training loop, optimization happens in three steps:\n",
    "    - `Call optimizer.zero_grad()` to reset the gradients of model parameters. Gradients by default add up; to prevent double-counting, we explicitly zero them at each iteration.\n",
    "    - Backpropagate the prediction loss with a call to `loss.backward()`. PyTorch deposits the gradients of the loss w.r.t. each parameter.\n",
    "    - Once we have our gradients, we call `optimizer.step()` to adjust the parameters by the gradients collected in the backward pass."
   ]
  },
  {
   "cell_type": "markdown",
   "id": "09fffcc5",
   "metadata": {
    "papermill": {
     "duration": 0.004203,
     "end_time": "2023-10-07T09:04:22.278290",
     "exception": false,
     "start_time": "2023-10-07T09:04:22.274087",
     "status": "completed"
    },
    "tags": []
   },
   "source": [
    "## Full Implementation"
   ]
  },
  {
   "cell_type": "markdown",
   "id": "776d34f3",
   "metadata": {
    "papermill": {
     "duration": 0.00432,
     "end_time": "2023-10-07T09:04:22.287042",
     "exception": false,
     "start_time": "2023-10-07T09:04:22.282722",
     "status": "completed"
    },
    "tags": []
   },
   "source": [
    "* We define `train_loop` that loops over our optimization code, and `test_loop` that evaluates the model's performance against our `test data`"
   ]
  },
  {
   "cell_type": "code",
   "execution_count": 5,
   "id": "b2917b22",
   "metadata": {
    "execution": {
     "iopub.execute_input": "2023-10-07T09:04:22.298235Z",
     "iopub.status.busy": "2023-10-07T09:04:22.297942Z",
     "iopub.status.idle": "2023-10-07T09:04:22.304101Z",
     "shell.execute_reply": "2023-10-07T09:04:22.303293Z"
    },
    "papermill": {
     "duration": 0.014077,
     "end_time": "2023-10-07T09:04:22.305625",
     "exception": false,
     "start_time": "2023-10-07T09:04:22.291548",
     "status": "completed"
    },
    "tags": []
   },
   "outputs": [],
   "source": [
    "def train_loop(dataloader, model, loss_fn, optimizer):\n",
    "    size = len(dataloader.dataset)\n",
    "    # set the model to training mode - important for batch normalization and dropout layers\n",
    "    # unnecessary in this situation but add for best practices\n",
    "    model.train()\n",
    "    for batch, (X, y) in enumerate(dataloader):\n",
    "        # compute prediction and loss\n",
    "        pred = model(X)\n",
    "        loss = loss_fn(pred, y)\n",
    "        \n",
    "        # backpropagation\n",
    "        loss.backward()\n",
    "        optimizer.step()\n",
    "        optimizer.zero_grad()\n",
    "        \n",
    "        if batch % 100 == 0:\n",
    "            loss, current = loss.item(), (batch + 1) * len(X)\n",
    "            print(f\"loss: {loss:>7f} [{current:>5d} / {size:>5d}]\")\n",
    "            \n",
    "def test_loop(dataloader, model, loss_fn):\n",
    "    # set the model to evaluation mode - important for batch normalization and dropout layers\n",
    "    # unnecessary in this situation but added for best practices\n",
    "    model.eval()\n",
    "    size = len(dataloader.dataset)\n",
    "    num_batches = len(dataloader)\n",
    "    test_loss, correct = 0, 0\n",
    "    \n",
    "    # evaluating the model with torch.no_grad() ensures that no gradients are computed during test mode\n",
    "    # also serves to reduce unnecessary gradient computations and memory usage for tensors with requires_grad=True\n",
    "    with torch.no_grad():\n",
    "        for X, y in dataloader:\n",
    "            pred = model(X)\n",
    "            test_loss += loss_fn(pred, y).item()\n",
    "            correct += (pred.argmax(1) == y).type(torch.float).sum().item()\n",
    "    test_loss /= num_batches\n",
    "    correct /= size\n",
    "    \n",
    "    print(f\"Test Error: \\n Accuracy: {(100*correct):>0.1f}%, Avg loss: {test_loss:>8f}\\n\")"
   ]
  },
  {
   "cell_type": "markdown",
   "id": "a1829039",
   "metadata": {
    "papermill": {
     "duration": 0.004496,
     "end_time": "2023-10-07T09:04:22.315398",
     "exception": false,
     "start_time": "2023-10-07T09:04:22.310902",
     "status": "completed"
    },
    "tags": []
   },
   "source": [
    "* We initialize the loss function and optimizer, and pass it to `train_loop` and `test_loop`. Feel free to increase the number of epochs to track the model’s improving performance."
   ]
  },
  {
   "cell_type": "code",
   "execution_count": 6,
   "id": "c1e980e1",
   "metadata": {
    "execution": {
     "iopub.execute_input": "2023-10-07T09:04:22.327194Z",
     "iopub.status.busy": "2023-10-07T09:04:22.326925Z",
     "iopub.status.idle": "2023-10-07T09:04:22.393023Z",
     "shell.execute_reply": "2023-10-07T09:04:22.392076Z"
    },
    "papermill": {
     "duration": 0.07462,
     "end_time": "2023-10-07T09:04:22.395003",
     "exception": false,
     "start_time": "2023-10-07T09:04:22.320383",
     "status": "completed"
    },
    "tags": []
   },
   "outputs": [],
   "source": [
    "import tqdm\n",
    "\n",
    "from tqdm.notebook import tqdm"
   ]
  },
  {
   "cell_type": "code",
   "execution_count": 7,
   "id": "72d633e9",
   "metadata": {
    "execution": {
     "iopub.execute_input": "2023-10-07T09:04:22.407455Z",
     "iopub.status.busy": "2023-10-07T09:04:22.407172Z",
     "iopub.status.idle": "2023-10-07T09:05:54.526802Z",
     "shell.execute_reply": "2023-10-07T09:05:54.525929Z"
    },
    "papermill": {
     "duration": 92.1376,
     "end_time": "2023-10-07T09:05:54.538332",
     "exception": false,
     "start_time": "2023-10-07T09:04:22.400732",
     "status": "completed"
    },
    "tags": []
   },
   "outputs": [
    {
     "data": {
      "application/vnd.jupyter.widget-view+json": {
       "model_id": "3c220a8c297743448d2cc2ece4e527a3",
       "version_major": 2,
       "version_minor": 0
      },
      "text/plain": [
       "  0%|          | 0/10 [00:00<?, ?it/s]"
      ]
     },
     "metadata": {},
     "output_type": "display_data"
    },
    {
     "name": "stdout",
     "output_type": "stream",
     "text": [
      "Epoch 1\n",
      "---------------------------------------\n",
      "loss: 2.303916 [   64 / 60000]\n",
      "loss: 2.290578 [ 6464 / 60000]\n",
      "loss: 2.273265 [12864 / 60000]\n",
      "loss: 2.271098 [19264 / 60000]\n",
      "loss: 2.242660 [25664 / 60000]\n",
      "loss: 2.219155 [32064 / 60000]\n",
      "loss: 2.225608 [38464 / 60000]\n",
      "loss: 2.188614 [44864 / 60000]\n",
      "loss: 2.189776 [51264 / 60000]\n",
      "loss: 2.155869 [57664 / 60000]\n",
      "Test Error: \n",
      " Accuracy: 44.5%, Avg loss: 2.151989\n",
      "\n",
      "Epoch 2\n",
      "---------------------------------------\n",
      "loss: 2.160142 [   64 / 60000]\n",
      "loss: 2.154176 [ 6464 / 60000]\n",
      "loss: 2.097667 [12864 / 60000]\n",
      "loss: 2.117087 [19264 / 60000]\n",
      "loss: 2.057376 [25664 / 60000]\n",
      "loss: 1.997816 [32064 / 60000]\n",
      "loss: 2.026666 [38464 / 60000]\n",
      "loss: 1.946364 [44864 / 60000]\n",
      "loss: 1.949549 [51264 / 60000]\n",
      "loss: 1.874892 [57664 / 60000]\n",
      "Test Error: \n",
      " Accuracy: 53.2%, Avg loss: 1.880368\n",
      "\n",
      "Epoch 3\n",
      "---------------------------------------\n",
      "loss: 1.908070 [   64 / 60000]\n",
      "loss: 1.884996 [ 6464 / 60000]\n",
      "loss: 1.772500 [12864 / 60000]\n",
      "loss: 1.811813 [19264 / 60000]\n",
      "loss: 1.699947 [25664 / 60000]\n",
      "loss: 1.657928 [32064 / 60000]\n",
      "loss: 1.675640 [38464 / 60000]\n",
      "loss: 1.582962 [44864 / 60000]\n",
      "loss: 1.604893 [51264 / 60000]\n",
      "loss: 1.495285 [57664 / 60000]\n",
      "Test Error: \n",
      " Accuracy: 59.3%, Avg loss: 1.520755\n",
      "\n",
      "Epoch 4\n",
      "---------------------------------------\n",
      "loss: 1.583522 [   64 / 60000]\n",
      "loss: 1.554404 [ 6464 / 60000]\n",
      "loss: 1.411622 [12864 / 60000]\n",
      "loss: 1.476926 [19264 / 60000]\n",
      "loss: 1.362881 [25664 / 60000]\n",
      "loss: 1.363512 [32064 / 60000]\n",
      "loss: 1.367752 [38464 / 60000]\n",
      "loss: 1.303115 [44864 / 60000]\n",
      "loss: 1.335421 [51264 / 60000]\n",
      "loss: 1.229539 [57664 / 60000]\n",
      "Test Error: \n",
      " Accuracy: 62.8%, Avg loss: 1.261335\n",
      "\n",
      "Epoch 5\n",
      "---------------------------------------\n",
      "loss: 1.337412 [   64 / 60000]\n",
      "loss: 1.322118 [ 6464 / 60000]\n",
      "loss: 1.160946 [12864 / 60000]\n",
      "loss: 1.259386 [19264 / 60000]\n",
      "loss: 1.143860 [25664 / 60000]\n",
      "loss: 1.169562 [32064 / 60000]\n",
      "loss: 1.177606 [38464 / 60000]\n",
      "loss: 1.127192 [44864 / 60000]\n",
      "loss: 1.164865 [51264 / 60000]\n",
      "loss: 1.072720 [57664 / 60000]\n",
      "Test Error: \n",
      " Accuracy: 64.6%, Avg loss: 1.099520\n",
      "\n",
      "Epoch 6\n",
      "---------------------------------------\n",
      "loss: 1.171301 [   64 / 60000]\n",
      "loss: 1.175053 [ 6464 / 60000]\n",
      "loss: 0.994112 [12864 / 60000]\n",
      "loss: 1.122027 [19264 / 60000]\n",
      "loss: 1.009109 [25664 / 60000]\n",
      "loss: 1.037875 [32064 / 60000]\n",
      "loss: 1.060831 [38464 / 60000]\n",
      "loss: 1.014115 [44864 / 60000]\n",
      "loss: 1.052369 [51264 / 60000]\n",
      "loss: 0.974327 [57664 / 60000]\n",
      "Test Error: \n",
      " Accuracy: 66.1%, Avg loss: 0.994581\n",
      "\n",
      "Epoch 7\n",
      "---------------------------------------\n",
      "loss: 1.054508 [   64 / 60000]\n",
      "loss: 1.079028 [ 6464 / 60000]\n",
      "loss: 0.878617 [12864 / 60000]\n",
      "loss: 1.029848 [19264 / 60000]\n",
      "loss: 0.924101 [25664 / 60000]\n",
      "loss: 0.943714 [32064 / 60000]\n",
      "loss: 0.984960 [38464 / 60000]\n",
      "loss: 0.939364 [44864 / 60000]\n",
      "loss: 0.973088 [51264 / 60000]\n",
      "loss: 0.907859 [57664 / 60000]\n",
      "Test Error: \n",
      " Accuracy: 67.4%, Avg loss: 0.922139\n",
      "\n",
      "Epoch 8\n",
      "---------------------------------------\n",
      "loss: 0.967462 [   64 / 60000]\n",
      "loss: 1.011628 [ 6464 / 60000]\n",
      "loss: 0.794964 [12864 / 60000]\n",
      "loss: 0.963180 [19264 / 60000]\n",
      "loss: 0.866457 [25664 / 60000]\n",
      "loss: 0.873334 [32064 / 60000]\n",
      "loss: 0.931641 [38464 / 60000]\n",
      "loss: 0.888127 [44864 / 60000]\n",
      "loss: 0.914148 [51264 / 60000]\n",
      "loss: 0.859076 [57664 / 60000]\n",
      "Test Error: \n",
      " Accuracy: 68.6%, Avg loss: 0.868890\n",
      "\n",
      "Epoch 9\n",
      "---------------------------------------\n",
      "loss: 0.899162 [   64 / 60000]\n",
      "loss: 0.960566 [ 6464 / 60000]\n",
      "loss: 0.731707 [12864 / 60000]\n",
      "loss: 0.912094 [19264 / 60000]\n",
      "loss: 0.824383 [25664 / 60000]\n",
      "loss: 0.818922 [32064 / 60000]\n",
      "loss: 0.891301 [38464 / 60000]\n",
      "loss: 0.851497 [44864 / 60000]\n",
      "loss: 0.868802 [51264 / 60000]\n",
      "loss: 0.820862 [57664 / 60000]\n",
      "Test Error: \n",
      " Accuracy: 69.7%, Avg loss: 0.827766\n",
      "\n",
      "Epoch 10\n",
      "---------------------------------------\n",
      "loss: 0.843843 [   64 / 60000]\n",
      "loss: 0.919114 [ 6464 / 60000]\n",
      "loss: 0.682198 [12864 / 60000]\n",
      "loss: 0.871683 [19264 / 60000]\n",
      "loss: 0.791306 [25664 / 60000]\n",
      "loss: 0.776199 [32064 / 60000]\n",
      "loss: 0.859066 [38464 / 60000]\n",
      "loss: 0.824183 [44864 / 60000]\n",
      "loss: 0.833259 [51264 / 60000]\n",
      "loss: 0.790018 [57664 / 60000]\n",
      "Test Error: \n",
      " Accuracy: 70.8%, Avg loss: 0.794913\n",
      "\n",
      "Done\n"
     ]
    }
   ],
   "source": [
    "loss_fn = nn.CrossEntropyLoss()\n",
    "optimizer = torch.optim.SGD(model.parameters(), lr=learning_rate)\n",
    "\n",
    "epochs = 10\n",
    "for t in tqdm(range(epochs)):\n",
    "    print(f\"Epoch {t + 1}\\n---------------------------------------\")\n",
    "    train_loop(train_dataloader, model, loss_fn, optimizer)\n",
    "    test_loop(test_dataloader, model, loss_fn)\n",
    "print(\"Done\")"
   ]
  }
 ],
 "metadata": {
  "kernelspec": {
   "display_name": "Python 3",
   "language": "python",
   "name": "python3"
  },
  "language_info": {
   "codemirror_mode": {
    "name": "ipython",
    "version": 3
   },
   "file_extension": ".py",
   "mimetype": "text/x-python",
   "name": "python",
   "nbconvert_exporter": "python",
   "pygments_lexer": "ipython3",
   "version": "3.10.12"
  },
  "papermill": {
   "default_parameters": {},
   "duration": 103.788755,
   "end_time": "2023-10-07T09:05:55.322068",
   "environment_variables": {},
   "exception": null,
   "input_path": "__notebook__.ipynb",
   "output_path": "__notebook__.ipynb",
   "parameters": {},
   "start_time": "2023-10-07T09:04:11.533313",
   "version": "2.4.0"
  },
  "widgets": {
   "application/vnd.jupyter.widget-state+json": {
    "state": {
     "2c593fe14f7243e7862c083a5a832019": {
      "model_module": "@jupyter-widgets/controls",
      "model_module_version": "1.5.0",
      "model_name": "FloatProgressModel",
      "state": {
       "_dom_classes": [],
       "_model_module": "@jupyter-widgets/controls",
       "_model_module_version": "1.5.0",
       "_model_name": "FloatProgressModel",
       "_view_count": null,
       "_view_module": "@jupyter-widgets/controls",
       "_view_module_version": "1.5.0",
       "_view_name": "ProgressView",
       "bar_style": "success",
       "description": "",
       "description_tooltip": null,
       "layout": "IPY_MODEL_695effdcb1034405a164bfa3de1a158a",
       "max": 10.0,
       "min": 0.0,
       "orientation": "horizontal",
       "style": "IPY_MODEL_fb219cfe7b134f028a0f1724a1d06a43",
       "value": 10.0
      }
     },
     "30f5cb84c9ce4661a8922f88ac0641da": {
      "model_module": "@jupyter-widgets/base",
      "model_module_version": "1.2.0",
      "model_name": "LayoutModel",
      "state": {
       "_model_module": "@jupyter-widgets/base",
       "_model_module_version": "1.2.0",
       "_model_name": "LayoutModel",
       "_view_count": null,
       "_view_module": "@jupyter-widgets/base",
       "_view_module_version": "1.2.0",
       "_view_name": "LayoutView",
       "align_content": null,
       "align_items": null,
       "align_self": null,
       "border": null,
       "bottom": null,
       "display": null,
       "flex": null,
       "flex_flow": null,
       "grid_area": null,
       "grid_auto_columns": null,
       "grid_auto_flow": null,
       "grid_auto_rows": null,
       "grid_column": null,
       "grid_gap": null,
       "grid_row": null,
       "grid_template_areas": null,
       "grid_template_columns": null,
       "grid_template_rows": null,
       "height": null,
       "justify_content": null,
       "justify_items": null,
       "left": null,
       "margin": null,
       "max_height": null,
       "max_width": null,
       "min_height": null,
       "min_width": null,
       "object_fit": null,
       "object_position": null,
       "order": null,
       "overflow": null,
       "overflow_x": null,
       "overflow_y": null,
       "padding": null,
       "right": null,
       "top": null,
       "visibility": null,
       "width": null
      }
     },
     "3c220a8c297743448d2cc2ece4e527a3": {
      "model_module": "@jupyter-widgets/controls",
      "model_module_version": "1.5.0",
      "model_name": "HBoxModel",
      "state": {
       "_dom_classes": [],
       "_model_module": "@jupyter-widgets/controls",
       "_model_module_version": "1.5.0",
       "_model_name": "HBoxModel",
       "_view_count": null,
       "_view_module": "@jupyter-widgets/controls",
       "_view_module_version": "1.5.0",
       "_view_name": "HBoxView",
       "box_style": "",
       "children": [
        "IPY_MODEL_7b246b8b80cb4c78b07e3cce685a2802",
        "IPY_MODEL_2c593fe14f7243e7862c083a5a832019",
        "IPY_MODEL_a00619f82a6844f4aa7185646a139bcb"
       ],
       "layout": "IPY_MODEL_7d19d5f5eb2a43ffbf72590529fd6448"
      }
     },
     "6248349b7d5d40ea8ae71c796d12df66": {
      "model_module": "@jupyter-widgets/base",
      "model_module_version": "1.2.0",
      "model_name": "LayoutModel",
      "state": {
       "_model_module": "@jupyter-widgets/base",
       "_model_module_version": "1.2.0",
       "_model_name": "LayoutModel",
       "_view_count": null,
       "_view_module": "@jupyter-widgets/base",
       "_view_module_version": "1.2.0",
       "_view_name": "LayoutView",
       "align_content": null,
       "align_items": null,
       "align_self": null,
       "border": null,
       "bottom": null,
       "display": null,
       "flex": null,
       "flex_flow": null,
       "grid_area": null,
       "grid_auto_columns": null,
       "grid_auto_flow": null,
       "grid_auto_rows": null,
       "grid_column": null,
       "grid_gap": null,
       "grid_row": null,
       "grid_template_areas": null,
       "grid_template_columns": null,
       "grid_template_rows": null,
       "height": null,
       "justify_content": null,
       "justify_items": null,
       "left": null,
       "margin": null,
       "max_height": null,
       "max_width": null,
       "min_height": null,
       "min_width": null,
       "object_fit": null,
       "object_position": null,
       "order": null,
       "overflow": null,
       "overflow_x": null,
       "overflow_y": null,
       "padding": null,
       "right": null,
       "top": null,
       "visibility": null,
       "width": null
      }
     },
     "695effdcb1034405a164bfa3de1a158a": {
      "model_module": "@jupyter-widgets/base",
      "model_module_version": "1.2.0",
      "model_name": "LayoutModel",
      "state": {
       "_model_module": "@jupyter-widgets/base",
       "_model_module_version": "1.2.0",
       "_model_name": "LayoutModel",
       "_view_count": null,
       "_view_module": "@jupyter-widgets/base",
       "_view_module_version": "1.2.0",
       "_view_name": "LayoutView",
       "align_content": null,
       "align_items": null,
       "align_self": null,
       "border": null,
       "bottom": null,
       "display": null,
       "flex": null,
       "flex_flow": null,
       "grid_area": null,
       "grid_auto_columns": null,
       "grid_auto_flow": null,
       "grid_auto_rows": null,
       "grid_column": null,
       "grid_gap": null,
       "grid_row": null,
       "grid_template_areas": null,
       "grid_template_columns": null,
       "grid_template_rows": null,
       "height": null,
       "justify_content": null,
       "justify_items": null,
       "left": null,
       "margin": null,
       "max_height": null,
       "max_width": null,
       "min_height": null,
       "min_width": null,
       "object_fit": null,
       "object_position": null,
       "order": null,
       "overflow": null,
       "overflow_x": null,
       "overflow_y": null,
       "padding": null,
       "right": null,
       "top": null,
       "visibility": null,
       "width": null
      }
     },
     "7b246b8b80cb4c78b07e3cce685a2802": {
      "model_module": "@jupyter-widgets/controls",
      "model_module_version": "1.5.0",
      "model_name": "HTMLModel",
      "state": {
       "_dom_classes": [],
       "_model_module": "@jupyter-widgets/controls",
       "_model_module_version": "1.5.0",
       "_model_name": "HTMLModel",
       "_view_count": null,
       "_view_module": "@jupyter-widgets/controls",
       "_view_module_version": "1.5.0",
       "_view_name": "HTMLView",
       "description": "",
       "description_tooltip": null,
       "layout": "IPY_MODEL_30f5cb84c9ce4661a8922f88ac0641da",
       "placeholder": "​",
       "style": "IPY_MODEL_ecfd3736bde64f6595fcf4bdc05b0a15",
       "value": "100%"
      }
     },
     "7d19d5f5eb2a43ffbf72590529fd6448": {
      "model_module": "@jupyter-widgets/base",
      "model_module_version": "1.2.0",
      "model_name": "LayoutModel",
      "state": {
       "_model_module": "@jupyter-widgets/base",
       "_model_module_version": "1.2.0",
       "_model_name": "LayoutModel",
       "_view_count": null,
       "_view_module": "@jupyter-widgets/base",
       "_view_module_version": "1.2.0",
       "_view_name": "LayoutView",
       "align_content": null,
       "align_items": null,
       "align_self": null,
       "border": null,
       "bottom": null,
       "display": null,
       "flex": null,
       "flex_flow": null,
       "grid_area": null,
       "grid_auto_columns": null,
       "grid_auto_flow": null,
       "grid_auto_rows": null,
       "grid_column": null,
       "grid_gap": null,
       "grid_row": null,
       "grid_template_areas": null,
       "grid_template_columns": null,
       "grid_template_rows": null,
       "height": null,
       "justify_content": null,
       "justify_items": null,
       "left": null,
       "margin": null,
       "max_height": null,
       "max_width": null,
       "min_height": null,
       "min_width": null,
       "object_fit": null,
       "object_position": null,
       "order": null,
       "overflow": null,
       "overflow_x": null,
       "overflow_y": null,
       "padding": null,
       "right": null,
       "top": null,
       "visibility": null,
       "width": null
      }
     },
     "848cb24bceb748499441881dc3b65f60": {
      "model_module": "@jupyter-widgets/controls",
      "model_module_version": "1.5.0",
      "model_name": "DescriptionStyleModel",
      "state": {
       "_model_module": "@jupyter-widgets/controls",
       "_model_module_version": "1.5.0",
       "_model_name": "DescriptionStyleModel",
       "_view_count": null,
       "_view_module": "@jupyter-widgets/base",
       "_view_module_version": "1.2.0",
       "_view_name": "StyleView",
       "description_width": ""
      }
     },
     "a00619f82a6844f4aa7185646a139bcb": {
      "model_module": "@jupyter-widgets/controls",
      "model_module_version": "1.5.0",
      "model_name": "HTMLModel",
      "state": {
       "_dom_classes": [],
       "_model_module": "@jupyter-widgets/controls",
       "_model_module_version": "1.5.0",
       "_model_name": "HTMLModel",
       "_view_count": null,
       "_view_module": "@jupyter-widgets/controls",
       "_view_module_version": "1.5.0",
       "_view_name": "HTMLView",
       "description": "",
       "description_tooltip": null,
       "layout": "IPY_MODEL_6248349b7d5d40ea8ae71c796d12df66",
       "placeholder": "​",
       "style": "IPY_MODEL_848cb24bceb748499441881dc3b65f60",
       "value": " 10/10 [01:32&lt;00:00,  9.28s/it]"
      }
     },
     "ecfd3736bde64f6595fcf4bdc05b0a15": {
      "model_module": "@jupyter-widgets/controls",
      "model_module_version": "1.5.0",
      "model_name": "DescriptionStyleModel",
      "state": {
       "_model_module": "@jupyter-widgets/controls",
       "_model_module_version": "1.5.0",
       "_model_name": "DescriptionStyleModel",
       "_view_count": null,
       "_view_module": "@jupyter-widgets/base",
       "_view_module_version": "1.2.0",
       "_view_name": "StyleView",
       "description_width": ""
      }
     },
     "fb219cfe7b134f028a0f1724a1d06a43": {
      "model_module": "@jupyter-widgets/controls",
      "model_module_version": "1.5.0",
      "model_name": "ProgressStyleModel",
      "state": {
       "_model_module": "@jupyter-widgets/controls",
       "_model_module_version": "1.5.0",
       "_model_name": "ProgressStyleModel",
       "_view_count": null,
       "_view_module": "@jupyter-widgets/base",
       "_view_module_version": "1.2.0",
       "_view_name": "StyleView",
       "bar_color": null,
       "description_width": ""
      }
     }
    },
    "version_major": 2,
    "version_minor": 0
   }
  }
 },
 "nbformat": 4,
 "nbformat_minor": 5
}
